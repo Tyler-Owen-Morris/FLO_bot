{
 "cells": [
  {
   "cell_type": "code",
   "execution_count": 1,
   "metadata": {},
   "outputs": [],
   "source": [
    "import pandas as pd\n",
    "import numpy as np\n",
    "from datetime import datetime\n",
    "import requests\n",
    "import json"
   ]
  },
  {
   "cell_type": "code",
   "execution_count": 2,
   "metadata": {},
   "outputs": [
    {
     "name": "stderr",
     "output_type": "stream",
     "text": [
      "/Users/owenmorris/anaconda/lib/python3.6/site-packages/urllib3/connectionpool.py:1004: InsecureRequestWarning: Unverified HTTPS request is being made to host 'florincoin.info'. Adding certificate verification is strongly advised. See: https://urllib3.readthedocs.io/en/latest/advanced-usage.html#ssl-warnings\n",
      "  InsecureRequestWarning,\n"
     ]
    }
   ],
   "source": [
    "with requests.get('https://florincoin.info/api/getnetworkhashps', verify=False) as response:\n",
    "    html = response.text\n",
    "\n",
    "net_hash_ps = float(html)"
   ]
  },
  {
   "cell_type": "code",
   "execution_count": 3,
   "metadata": {},
   "outputs": [
    {
     "data": {
      "text/plain": [
       "'{\"info\":{\"version\":\"flocore-5.0.0\",\"blocks\":4075596,\"proxy\":\"\",\"difficulty\":1071,\"testnet\":false,\"relayfee\":0,\"errors\":\"\",\"network\":\"livenet\"}}'"
      ]
     },
     "execution_count": 3,
     "metadata": {},
     "output_type": "execute_result"
    }
   ],
   "source": [
    "with requests.get('https://livenet.flocha.in/api/status?q=getInfo') as response:\n",
    "    html = response.text\n",
    "flocha_json = json.loads(html)\n",
    "html"
   ]
  },
  {
   "cell_type": "code",
   "execution_count": 4,
   "metadata": {},
   "outputs": [
    {
     "data": {
      "text/plain": [
       "'{\"success\":true,\"message\":\"\",\"result\":[{\"MarketName\":\"BTC-FLO\",\"High\":0.00000327,\"Low\":0.00000318,\"Volume\":100996.68895338,\"Last\":0.00000318,\"BaseVolume\":0.32266238,\"TimeStamp\":\"2020-04-27T14:56:05.36\",\"Bid\":0.00000318,\"Ask\":0.00000323,\"OpenBuyOrders\":148,\"OpenSellOrders\":1318,\"PrevDay\":0.00000322,\"Created\":\"2015-03-11T05:43:30.193\"}]}'"
      ]
     },
     "execution_count": 4,
     "metadata": {},
     "output_type": "execute_result"
    }
   ],
   "source": [
    "with requests.get('https://api.bittrex.com/api/v1.1/public/getmarketsummary?market=btc-flo') as response:\n",
    "    html = response.text\n",
    "bitrex_json = json.loads(html)\n",
    "html"
   ]
  },
  {
   "cell_type": "code",
   "execution_count": 5,
   "metadata": {},
   "outputs": [
    {
     "data": {
      "text/plain": [
       "'{\"success\":true,\"data\":{\"name\":\"scrypt\",\"display\":\"Scrypt\",\"suggested_price\":{\"amount\":\"0.00028176\",\"currency\":\"BTC\",\"unit\":\"gh*day\"},\"stats\":{\"available\":{\"rigs\":\"336\",\"hash\":{\"hash\":\"56354.47983514\",\"unit\":\"gh\",\"nice\":\"56.35T\"}},\"rented\":{\"rigs\":\"240\",\"hash\":{\"hash\":\"615.63082740823\",\"unit\":\"gh\",\"nice\":\"615.63G\"}},\"prices\":{\"lowest\":{\"amount\":\"0.00016257\",\"currency\":\"BTC\",\"unit\":\"gh*day\"},\"last_10\":{\"amount\":\"0.00164948\",\"currency\":\"BTC\",\"unit\":\"gh*day\"},\"last_20\":{\"amount\":\"0.00098272\",\"currency\":\"BTC\",\"unit\":\"gh*day\"},\"last_30\":{\"amount\":\"0.00075624\",\"currency\":\"BTC\",\"unit\":\"gh*day\"},\"last\":{\"amount\":\"0.00016786\",\"currency\":\"BTC\",\"unit\":\"gh*day\"}}},\"new\":false,\"hot\":true,\"hashtype\":\"gh\",\"pool_option1\":null}}'"
      ]
     },
     "execution_count": 5,
     "metadata": {},
     "output_type": "execute_result"
    }
   ],
   "source": [
    "with requests.get('https://www.miningrigrentals.com/api/v2/info/algo/scrypt') as response:\n",
    "    html = response.text\n",
    "rental_json = json.loads(html)\n",
    "html"
   ]
  },
  {
   "cell_type": "code",
   "execution_count": 6,
   "metadata": {},
   "outputs": [
    {
     "data": {
      "text/plain": [
       "'{\"success\":true,\"message\":\"\",\"result\":[{\"MarketName\":\"USD-BTC\",\"High\":7827.00000000,\"Low\":7475.00000000,\"Volume\":917.60670340,\"Last\":7672.96900000,\"BaseVolume\":7036397.64591557,\"TimeStamp\":\"2020-04-27T14:56:05.36\",\"Bid\":7673.67400000,\"Ask\":7674.99100000,\"OpenBuyOrders\":4799,\"OpenSellOrders\":3244,\"PrevDay\":7655.29500000,\"Created\":\"2018-05-31T13:24:40.77\"}]}'"
      ]
     },
     "execution_count": 6,
     "metadata": {},
     "output_type": "execute_result"
    }
   ],
   "source": [
    "with requests.get('https://api.bittrex.com/api/v1.1/public/getmarketsummary?market=usd-btc') as response:\n",
    "    html = response.text\n",
    "bitrex2_json = json.loads(html)\n",
    "html"
   ]
  },
  {
   "cell_type": "code",
   "execution_count": 7,
   "metadata": {},
   "outputs": [
    {
     "data": {
      "text/plain": [
       "'{\"success\":true,\"data\":{\"name\":\"sha256\",\"display\":\"Sha256\",\"suggested_price\":{\"amount\":\"0.00002064\",\"currency\":\"BTC\",\"unit\":\"th*day\"},\"stats\":{\"available\":{\"rigs\":\"358\",\"hash\":{\"hash\":\"727134.21730692\",\"unit\":\"th\",\"nice\":\"727.13P\"}},\"rented\":{\"rigs\":\"190\",\"hash\":{\"hash\":\"8679.7126514719\",\"unit\":\"th\",\"nice\":\"8.68P\"}},\"prices\":{\"lowest\":{\"amount\":\"0.00002124\",\"currency\":\"BTC\",\"unit\":\"th*day\"},\"last_10\":{\"amount\":\"0.00002200\",\"currency\":\"BTC\",\"unit\":\"th*day\"},\"last_20\":{\"amount\":\"0.00002200\",\"currency\":\"BTC\",\"unit\":\"th*day\"},\"last_30\":{\"amount\":\"0.00002100\",\"currency\":\"BTC\",\"unit\":\"th*day\"},\"last\":{\"amount\":\"0.00002215\",\"currency\":\"BTC\",\"unit\":\"th*day\"}}},\"new\":false,\"hot\":true,\"hashtype\":\"th\",\"pool_option1\":null}}'"
      ]
     },
     "execution_count": 7,
     "metadata": {},
     "output_type": "execute_result"
    }
   ],
   "source": [
    "with requests.get('https://www.miningrigrentals.com/api/v2/info/algo/sha256') as response:\n",
    "    html = response.text\n",
    "sharental_json = json.loads(html)\n",
    "html"
   ]
  },
  {
   "cell_type": "code",
   "execution_count": 8,
   "metadata": {},
   "outputs": [
    {
     "data": {
      "text/plain": [
       "15958652328578.0"
      ]
     },
     "execution_count": 8,
     "metadata": {},
     "output_type": "execute_result"
    }
   ],
   "source": [
    "with requests.get('https://blockchain.info/q/getdifficulty') as response:\n",
    "    btc_difficulty = float(response.text)\n",
    "#btc_json = json.loads(html)\n",
    "#float(html)\n",
    "btc_difficulty"
   ]
  },
  {
   "cell_type": "code",
   "execution_count": 9,
   "metadata": {},
   "outputs": [
    {
     "data": {
      "text/plain": [
       "627867.0"
      ]
     },
     "execution_count": 9,
     "metadata": {},
     "output_type": "execute_result"
    }
   ],
   "source": [
    "with requests.get('https://blockchain.info/q/getblockcount') as response:\n",
    "    btc_block = float(response.text)\n",
    "#btc_json = json.loads(html)\n",
    "#float(html)\n",
    "btc_block"
   ]
  },
  {
   "cell_type": "code",
   "execution_count": 10,
   "metadata": {},
   "outputs": [
    {
     "name": "stdout",
     "output_type": "stream",
     "text": [
      "<class 'dict'>\n"
     ]
    },
    {
     "data": {
      "text/plain": [
       "7672.969"
      ]
     },
     "execution_count": 10,
     "metadata": {},
     "output_type": "execute_result"
    }
   ],
   "source": [
    "print(type(bitrex2_json['result'][0]))\n",
    "bitrex2_json['result'][0]['Last']"
   ]
  },
  {
   "cell_type": "code",
   "execution_count": 11,
   "metadata": {},
   "outputs": [],
   "source": [
    "cols = ['timestamp', 'FLONetworkHashesPs', 'FLOdifficulty',  'FLOblocks', 'BTCdifficulty', 'BTCblocks',\n",
    "       'FLOvolume', 'FLOopenBuy', 'FLOopenSell', 'FLOlow', 'FLOhigh', 'FLObid', 'FLOask', 'FLObaseVol',\n",
    "       'BTCvolume', 'BTCopenBuy', 'BTCopenSell', 'BTClow', 'BTChigh', 'BTCbid', 'BTCask', 'BTCbaseVol',\n",
    "       'FLOlast', 'BTClast', 'scrypt_price', 'scrypt_avail', 'scrypt_rented', 'scrypt_last30',\n",
    "       'sha_price', 'sha_avail', 'sha_rented', 'sha_last30']\n",
    "\n",
    "\n",
    "flo_diff = flocha_json['info']['difficulty']\n",
    "flo_blocks = flocha_json['info']['blocks']\n",
    "btc_diff = btc_difficulty\n",
    "btc_blocks = btc_block\n",
    "\n",
    "flo_vol = bitrex_json['result'][0]['Volume']\n",
    "flo_open_buy = bitrex_json['result'][0]['OpenBuyOrders']\n",
    "flo_open_sell = bitrex_json['result'][0]['OpenSellOrders']\n",
    "flo_low = bitrex_json['result'][0]['Low']\n",
    "flo_high = bitrex_json['result'][0]['High']\n",
    "flo_bid = bitrex_json['result'][0]['Bid']\n",
    "flo_ask = bitrex_json['result'][0]['Ask']\n",
    "flo_baseVol = bitrex_json['result'][0]['BaseVolume']\n",
    "\n",
    "\n",
    "btc_vol = bitrex2_json['result'][0]['Volume']\n",
    "btc_open_buy = bitrex2_json['result'][0]['OpenBuyOrders']\n",
    "btc_open_sell = bitrex2_json['result'][0]['OpenSellOrders']\n",
    "btc_low = bitrex2_json['result'][0]['High']\n",
    "btc_high = bitrex2_json['result'][0]['Low']\n",
    "btc_bid = bitrex2_json['result'][0]['Bid']\n",
    "btc_ask = bitrex2_json['result'][0]['Ask']\n",
    "btc_baseVol = bitrex2_json['result'][0]['BaseVolume']\n",
    "\n",
    "last_flo_btc = bitrex_json['result'][0]['Last']\n",
    "last_btc_usd = bitrex2_json['result'][0]['Last']\n",
    "\n",
    "scrypt_rent_price = rental_json['data']['suggested_price']['amount']\n",
    "scrypt_rigs_avail = rental_json['data']['stats']['available']['rigs']\n",
    "scrypt_rigs_rented = rental_json['data']['stats']['rented']['rigs']\n",
    "scrypt_30 = rental_json['data']['stats']['prices']['last_30']['amount']\n",
    "\n",
    "sha_rent_price = sharental_json['data']['suggested_price']['amount']\n",
    "sha_rigs_avail = sharental_json['data']['stats']['available']['rigs']\n",
    "sha_rigs_rented = sharental_json['data']['stats']['rented']['rigs']\n",
    "sha_30 = sharental_json['data']['stats']['prices']['last_30']['amount']\n",
    "\n",
    "#construct the dataframe\n",
    "df = pd.DataFrame(columns=cols)\n",
    "df.loc[0] = [datetime.utcnow(), net_hash_ps, flo_diff, flo_blocks, btc_diff, btc_blocks, flo_vol, flo_open_buy,\n",
    "            flo_open_sell, flo_low, flo_high, flo_bid, flo_ask, flo_baseVol, btc_vol, btc_open_buy, btc_open_sell,\n",
    "            btc_low, btc_high, btc_bid, btc_ask, btc_baseVol, last_flo_btc, last_btc_usd, scrypt_rent_price,\n",
    "            scrypt_rigs_avail, scrypt_rigs_rented, scrypt_30, sha_rent_price, sha_rigs_avail, sha_rigs_rented, sha_30]\n"
   ]
  },
  {
   "cell_type": "code",
   "execution_count": 12,
   "metadata": {},
   "outputs": [
    {
     "data": {
      "text/html": [
       "<div>\n",
       "<style scoped>\n",
       "    .dataframe tbody tr th:only-of-type {\n",
       "        vertical-align: middle;\n",
       "    }\n",
       "\n",
       "    .dataframe tbody tr th {\n",
       "        vertical-align: top;\n",
       "    }\n",
       "\n",
       "    .dataframe thead th {\n",
       "        text-align: right;\n",
       "    }\n",
       "</style>\n",
       "<table border=\"1\" class=\"dataframe\">\n",
       "  <thead>\n",
       "    <tr style=\"text-align: right;\">\n",
       "      <th></th>\n",
       "      <th>timestamp</th>\n",
       "      <th>FLONetworkHashesPs</th>\n",
       "      <th>FLOdifficulty</th>\n",
       "      <th>FLOblocks</th>\n",
       "      <th>BTCdifficulty</th>\n",
       "      <th>BTCblocks</th>\n",
       "      <th>FLOvolume</th>\n",
       "      <th>FLOopenBuy</th>\n",
       "      <th>FLOopenSell</th>\n",
       "      <th>FLOlow</th>\n",
       "      <th>...</th>\n",
       "      <th>FLOlast</th>\n",
       "      <th>BTClast</th>\n",
       "      <th>scrypt_price</th>\n",
       "      <th>scrypt_avail</th>\n",
       "      <th>scrypt_rented</th>\n",
       "      <th>scrypt_last30</th>\n",
       "      <th>sha_price</th>\n",
       "      <th>sha_avail</th>\n",
       "      <th>sha_rented</th>\n",
       "      <th>sha_last30</th>\n",
       "    </tr>\n",
       "  </thead>\n",
       "  <tbody>\n",
       "    <tr>\n",
       "      <th>0</th>\n",
       "      <td>2020-04-27 14:56:09.914743</td>\n",
       "      <td>9.446350e+10</td>\n",
       "      <td>1071</td>\n",
       "      <td>4075596</td>\n",
       "      <td>1.595865e+13</td>\n",
       "      <td>627867.0</td>\n",
       "      <td>100996.688953</td>\n",
       "      <td>148</td>\n",
       "      <td>1318</td>\n",
       "      <td>0.000003</td>\n",
       "      <td>...</td>\n",
       "      <td>0.000003</td>\n",
       "      <td>7672.969</td>\n",
       "      <td>0.00028176</td>\n",
       "      <td>336</td>\n",
       "      <td>240</td>\n",
       "      <td>0.00075624</td>\n",
       "      <td>0.00002064</td>\n",
       "      <td>358</td>\n",
       "      <td>190</td>\n",
       "      <td>0.00002100</td>\n",
       "    </tr>\n",
       "  </tbody>\n",
       "</table>\n",
       "<p>1 rows × 32 columns</p>\n",
       "</div>"
      ],
      "text/plain": [
       "                   timestamp  FLONetworkHashesPs FLOdifficulty FLOblocks  \\\n",
       "0 2020-04-27 14:56:09.914743        9.446350e+10          1071   4075596   \n",
       "\n",
       "   BTCdifficulty  BTCblocks      FLOvolume FLOopenBuy FLOopenSell    FLOlow  \\\n",
       "0   1.595865e+13   627867.0  100996.688953        148        1318  0.000003   \n",
       "\n",
       "   ...   FLOlast   BTClast  scrypt_price  scrypt_avail  scrypt_rented  \\\n",
       "0  ...  0.000003  7672.969    0.00028176           336            240   \n",
       "\n",
       "  scrypt_last30   sha_price  sha_avail  sha_rented  sha_last30  \n",
       "0    0.00075624  0.00002064        358         190  0.00002100  \n",
       "\n",
       "[1 rows x 32 columns]"
      ]
     },
     "execution_count": 12,
     "metadata": {},
     "output_type": "execute_result"
    }
   ],
   "source": [
    "df.head()"
   ]
  },
  {
   "cell_type": "code",
   "execution_count": 13,
   "metadata": {},
   "outputs": [],
   "source": [
    "#df.to_csv('data/FLO_data_miner.csv')"
   ]
  },
  {
   "cell_type": "code",
   "execution_count": 14,
   "metadata": {},
   "outputs": [],
   "source": [
    "existing_df = pd.read_csv('data/FLO_data_miner.csv', index_col=0)\n",
    "#result_df = pd.concat([existing_df, df])\n",
    "result_df = existing_df.append(df)\n",
    "result_df.to_csv('data/FLO_data_miner.csv')"
   ]
  },
  {
   "cell_type": "code",
   "execution_count": 15,
   "metadata": {},
   "outputs": [
    {
     "data": {
      "text/plain": [
       "3"
      ]
     },
     "execution_count": 15,
     "metadata": {},
     "output_type": "execute_result"
    }
   ],
   "source": [
    "result_df.shape[0]"
   ]
  },
  {
   "cell_type": "code",
   "execution_count": 16,
   "metadata": {},
   "outputs": [],
   "source": [
    "existing_df = pd.read_csv('data/FLO_data_miner.csv', index_col=0)"
   ]
  },
  {
   "cell_type": "code",
   "execution_count": 17,
   "metadata": {},
   "outputs": [
    {
     "data": {
      "text/html": [
       "<div>\n",
       "<style scoped>\n",
       "    .dataframe tbody tr th:only-of-type {\n",
       "        vertical-align: middle;\n",
       "    }\n",
       "\n",
       "    .dataframe tbody tr th {\n",
       "        vertical-align: top;\n",
       "    }\n",
       "\n",
       "    .dataframe thead th {\n",
       "        text-align: right;\n",
       "    }\n",
       "</style>\n",
       "<table border=\"1\" class=\"dataframe\">\n",
       "  <thead>\n",
       "    <tr style=\"text-align: right;\">\n",
       "      <th></th>\n",
       "      <th>timestamp</th>\n",
       "      <th>FLONetworkHashesPs</th>\n",
       "      <th>FLOdifficulty</th>\n",
       "      <th>FLOblocks</th>\n",
       "      <th>BTCdifficulty</th>\n",
       "      <th>BTCblocks</th>\n",
       "      <th>FLOvolume</th>\n",
       "      <th>FLOopenBuy</th>\n",
       "      <th>FLOopenSell</th>\n",
       "      <th>FLOlow</th>\n",
       "      <th>...</th>\n",
       "      <th>FLOlast</th>\n",
       "      <th>BTClast</th>\n",
       "      <th>scrypt_price</th>\n",
       "      <th>scrypt_avail</th>\n",
       "      <th>scrypt_rented</th>\n",
       "      <th>scrypt_last30</th>\n",
       "      <th>sha_price</th>\n",
       "      <th>sha_avail</th>\n",
       "      <th>sha_rented</th>\n",
       "      <th>sha_last30</th>\n",
       "    </tr>\n",
       "  </thead>\n",
       "  <tbody>\n",
       "    <tr>\n",
       "      <th>0</th>\n",
       "      <td>2020-04-27 14:15:38.083451</td>\n",
       "      <td>7.415071e+10</td>\n",
       "      <td>853</td>\n",
       "      <td>4074355</td>\n",
       "      <td>1.595865e+13</td>\n",
       "      <td>627856.0</td>\n",
       "      <td>45992.749922</td>\n",
       "      <td>154</td>\n",
       "      <td>1318</td>\n",
       "      <td>0.000003</td>\n",
       "      <td>...</td>\n",
       "      <td>0.000003</td>\n",
       "      <td>7759.997</td>\n",
       "      <td>0.000282</td>\n",
       "      <td>328</td>\n",
       "      <td>248</td>\n",
       "      <td>0.000321</td>\n",
       "      <td>0.000018</td>\n",
       "      <td>414</td>\n",
       "      <td>138</td>\n",
       "      <td>0.000031</td>\n",
       "    </tr>\n",
       "    <tr>\n",
       "      <th>0</th>\n",
       "      <td>2020-04-27 14:15:38.083451</td>\n",
       "      <td>7.415071e+10</td>\n",
       "      <td>853</td>\n",
       "      <td>4074355</td>\n",
       "      <td>1.595865e+13</td>\n",
       "      <td>627856.0</td>\n",
       "      <td>45992.749922</td>\n",
       "      <td>154</td>\n",
       "      <td>1318</td>\n",
       "      <td>0.000003</td>\n",
       "      <td>...</td>\n",
       "      <td>0.000003</td>\n",
       "      <td>7759.997</td>\n",
       "      <td>0.000282</td>\n",
       "      <td>328</td>\n",
       "      <td>248</td>\n",
       "      <td>0.000321</td>\n",
       "      <td>0.000018</td>\n",
       "      <td>414</td>\n",
       "      <td>138</td>\n",
       "      <td>0.000031</td>\n",
       "    </tr>\n",
       "    <tr>\n",
       "      <th>0</th>\n",
       "      <td>2020-04-27 14:56:09.914743</td>\n",
       "      <td>9.446350e+10</td>\n",
       "      <td>1071</td>\n",
       "      <td>4075596</td>\n",
       "      <td>1.595865e+13</td>\n",
       "      <td>627867.0</td>\n",
       "      <td>100996.688953</td>\n",
       "      <td>148</td>\n",
       "      <td>1318</td>\n",
       "      <td>0.000003</td>\n",
       "      <td>...</td>\n",
       "      <td>0.000003</td>\n",
       "      <td>7672.969</td>\n",
       "      <td>0.000282</td>\n",
       "      <td>336</td>\n",
       "      <td>240</td>\n",
       "      <td>0.000756</td>\n",
       "      <td>0.000021</td>\n",
       "      <td>358</td>\n",
       "      <td>190</td>\n",
       "      <td>0.000021</td>\n",
       "    </tr>\n",
       "  </tbody>\n",
       "</table>\n",
       "<p>3 rows × 32 columns</p>\n",
       "</div>"
      ],
      "text/plain": [
       "                    timestamp  FLONetworkHashesPs  FLOdifficulty  FLOblocks  \\\n",
       "0  2020-04-27 14:15:38.083451        7.415071e+10            853    4074355   \n",
       "0  2020-04-27 14:15:38.083451        7.415071e+10            853    4074355   \n",
       "0  2020-04-27 14:56:09.914743        9.446350e+10           1071    4075596   \n",
       "\n",
       "   BTCdifficulty  BTCblocks      FLOvolume  FLOopenBuy  FLOopenSell    FLOlow  \\\n",
       "0   1.595865e+13   627856.0   45992.749922         154         1318  0.000003   \n",
       "0   1.595865e+13   627856.0   45992.749922         154         1318  0.000003   \n",
       "0   1.595865e+13   627867.0  100996.688953         148         1318  0.000003   \n",
       "\n",
       "   ...   FLOlast   BTClast  scrypt_price  scrypt_avail  scrypt_rented  \\\n",
       "0  ...  0.000003  7759.997      0.000282           328            248   \n",
       "0  ...  0.000003  7759.997      0.000282           328            248   \n",
       "0  ...  0.000003  7672.969      0.000282           336            240   \n",
       "\n",
       "   scrypt_last30  sha_price  sha_avail  sha_rented  sha_last30  \n",
       "0       0.000321   0.000018        414         138    0.000031  \n",
       "0       0.000321   0.000018        414         138    0.000031  \n",
       "0       0.000756   0.000021        358         190    0.000021  \n",
       "\n",
       "[3 rows x 32 columns]"
      ]
     },
     "execution_count": 17,
     "metadata": {},
     "output_type": "execute_result"
    }
   ],
   "source": [
    "existing_df.head()"
   ]
  },
  {
   "cell_type": "code",
   "execution_count": null,
   "metadata": {},
   "outputs": [],
   "source": []
  }
 ],
 "metadata": {
  "kernelspec": {
   "display_name": "Python 3",
   "language": "python",
   "name": "python3"
  },
  "language_info": {
   "codemirror_mode": {
    "name": "ipython",
    "version": 3
   },
   "file_extension": ".py",
   "mimetype": "text/x-python",
   "name": "python",
   "nbconvert_exporter": "python",
   "pygments_lexer": "ipython3",
   "version": "3.6.5"
  }
 },
 "nbformat": 4,
 "nbformat_minor": 4
}
