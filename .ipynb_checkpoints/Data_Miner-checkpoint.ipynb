{
 "cells": [
  {
   "cell_type": "code",
   "execution_count": 71,
   "metadata": {},
   "outputs": [],
   "source": [
    "import pandas as pd\n",
    "import numpy as np\n",
    "from datetime import datetime\n",
    "import requests\n",
    "import json"
   ]
  },
  {
   "cell_type": "code",
   "execution_count": 24,
   "metadata": {},
   "outputs": [
    {
     "name": "stderr",
     "output_type": "stream",
     "text": [
      "/Users/owenmorris/anaconda/lib/python3.6/site-packages/urllib3/connectionpool.py:1004: InsecureRequestWarning: Unverified HTTPS request is being made to host 'florincoin.info'. Adding certificate verification is strongly advised. See: https://urllib3.readthedocs.io/en/latest/advanced-usage.html#ssl-warnings\n",
      "  InsecureRequestWarning,\n"
     ]
    }
   ],
   "source": [
    "with requests.get('https://florincoin.info/api/getnetworkhashps', verify=False) as response:\n",
    "    html = response.text\n",
    "\n",
    "net_hash_ps = float(html)"
   ]
  },
  {
   "cell_type": "code",
   "execution_count": 38,
   "metadata": {},
   "outputs": [
    {
     "data": {
      "text/plain": [
       "'{\"info\":{\"version\":\"flocore-5.0.0\",\"blocks\":4074355,\"proxy\":\"\",\"difficulty\":853,\"testnet\":false,\"relayfee\":0,\"errors\":\"\",\"network\":\"livenet\"}}'"
      ]
     },
     "execution_count": 38,
     "metadata": {},
     "output_type": "execute_result"
    }
   ],
   "source": [
    "with requests.get('https://livenet.flocha.in/api/status?q=getInfo') as response:\n",
    "    html = response.text\n",
    "flocha_json = json.loads(html)\n",
    "html"
   ]
  },
  {
   "cell_type": "code",
   "execution_count": 42,
   "metadata": {},
   "outputs": [
    {
     "data": {
      "text/plain": [
       "'{\"success\":true,\"message\":\"\",\"result\":[{\"MarketName\":\"BTC-FLO\",\"High\":0.00000347,\"Low\":0.00000319,\"Volume\":45992.74992189,\"Last\":0.00000321,\"BaseVolume\":0.14938490,\"TimeStamp\":\"2020-04-27T00:23:13.87\",\"Bid\":0.00000321,\"Ask\":0.00000326,\"OpenBuyOrders\":154,\"OpenSellOrders\":1318,\"PrevDay\":0.00000328,\"Created\":\"2015-03-11T05:43:30.193\"}]}'"
      ]
     },
     "execution_count": 42,
     "metadata": {},
     "output_type": "execute_result"
    }
   ],
   "source": [
    "with requests.get('https://api.bittrex.com/api/v1.1/public/getmarketsummary?market=btc-flo') as response:\n",
    "    html = response.text\n",
    "bitrex_json = json.loads(html)\n",
    "html"
   ]
  },
  {
   "cell_type": "code",
   "execution_count": 82,
   "metadata": {},
   "outputs": [
    {
     "data": {
      "text/plain": [
       "'{\"success\":true,\"data\":{\"name\":\"scrypt\",\"display\":\"Scrypt\",\"suggested_price\":{\"amount\":\"0.00028212\",\"currency\":\"BTC\",\"unit\":\"gh*day\"},\"stats\":{\"available\":{\"rigs\":\"328\",\"hash\":{\"hash\":\"56127.40340514\",\"unit\":\"gh\",\"nice\":\"56.13T\"}},\"rented\":{\"rigs\":\"248\",\"hash\":{\"hash\":\"773.05065740823\",\"unit\":\"gh\",\"nice\":\"773.05G\"}},\"prices\":{\"lowest\":{\"amount\":\"0.00016257\",\"currency\":\"BTC\",\"unit\":\"gh*day\"},\"last_10\":{\"amount\":\"0.00031172\",\"currency\":\"BTC\",\"unit\":\"gh*day\"},\"last_20\":{\"amount\":\"0.00030803\",\"currency\":\"BTC\",\"unit\":\"gh*day\"},\"last_30\":{\"amount\":\"0.00032087\",\"currency\":\"BTC\",\"unit\":\"gh*day\"},\"last\":{\"amount\":\"0.00031500\",\"currency\":\"BTC\",\"unit\":\"gh*day\"}}},\"new\":false,\"hot\":true,\"hashtype\":\"gh\",\"pool_option1\":null}}'"
      ]
     },
     "execution_count": 82,
     "metadata": {},
     "output_type": "execute_result"
    }
   ],
   "source": [
    "with requests.get('https://www.miningrigrentals.com/api/v2/info/algo/scrypt') as response:\n",
    "    html = response.text\n",
    "rental_json = json.loads(html)\n",
    "html"
   ]
  },
  {
   "cell_type": "code",
   "execution_count": 41,
   "metadata": {},
   "outputs": [
    {
     "data": {
      "text/plain": [
       "'{\"success\":true,\"message\":\"\",\"result\":[{\"MarketName\":\"USD-BTC\",\"High\":7777.00000000,\"Low\":7475.00000000,\"Volume\":877.72401431,\"Last\":7759.99700000,\"BaseVolume\":6692370.19421265,\"TimeStamp\":\"2020-04-27T00:23:08.857\",\"Bid\":7760.00300000,\"Ask\":7764.26100000,\"OpenBuyOrders\":4823,\"OpenSellOrders\":3255,\"PrevDay\":7555.00000000,\"Created\":\"2018-05-31T13:24:40.77\"}]}'"
      ]
     },
     "execution_count": 41,
     "metadata": {},
     "output_type": "execute_result"
    }
   ],
   "source": [
    "with requests.get('https://api.bittrex.com/api/v1.1/public/getmarketsummary?market=usd-btc') as response:\n",
    "    html = response.text\n",
    "bitrex2_json = json.loads(html)\n",
    "html"
   ]
  },
  {
   "cell_type": "code",
   "execution_count": 81,
   "metadata": {},
   "outputs": [
    {
     "data": {
      "text/plain": [
       "'{\"success\":true,\"data\":{\"name\":\"sha256\",\"display\":\"Sha256\",\"suggested_price\":{\"amount\":\"0.00001806\",\"currency\":\"BTC\",\"unit\":\"th*day\"},\"stats\":{\"available\":{\"rigs\":\"414\",\"hash\":{\"hash\":\"741771.2241974\",\"unit\":\"th\",\"nice\":\"741.77P\"}},\"rented\":{\"rigs\":\"138\",\"hash\":{\"hash\":\"3868.6237609923\",\"unit\":\"th\",\"nice\":\"3.87P\"}},\"prices\":{\"lowest\":{\"amount\":\"0.00001908\",\"currency\":\"BTC\",\"unit\":\"th*day\"},\"last_10\":{\"amount\":\"0.00003500\",\"currency\":\"BTC\",\"unit\":\"th*day\"},\"last_20\":{\"amount\":\"0.00002700\",\"currency\":\"BTC\",\"unit\":\"th*day\"},\"last_30\":{\"amount\":\"0.00003100\",\"currency\":\"BTC\",\"unit\":\"th*day\"},\"last\":{\"amount\":\"0.00002000\",\"currency\":\"BTC\",\"unit\":\"th*day\"}}},\"new\":false,\"hot\":true,\"hashtype\":\"th\",\"pool_option1\":null}}'"
      ]
     },
     "execution_count": 81,
     "metadata": {},
     "output_type": "execute_result"
    }
   ],
   "source": [
    "with requests.get('https://www.miningrigrentals.com/api/v2/info/algo/sha256') as response:\n",
    "    html = response.text\n",
    "sharental_json = json.loads(html)\n",
    "html"
   ]
  },
  {
   "cell_type": "code",
   "execution_count": 86,
   "metadata": {},
   "outputs": [
    {
     "data": {
      "text/plain": [
       "15958652328578.0"
      ]
     },
     "execution_count": 86,
     "metadata": {},
     "output_type": "execute_result"
    }
   ],
   "source": [
    "with requests.get('https://blockchain.info/q/getdifficulty') as response:\n",
    "    btc_difficulty = float(response.text)\n",
    "#btc_json = json.loads(html)\n",
    "#float(html)\n",
    "btc_difficulty"
   ]
  },
  {
   "cell_type": "code",
   "execution_count": 88,
   "metadata": {},
   "outputs": [
    {
     "data": {
      "text/plain": [
       "627856.0"
      ]
     },
     "execution_count": 88,
     "metadata": {},
     "output_type": "execute_result"
    }
   ],
   "source": [
    "with requests.get('https://blockchain.info/q/getblockcount') as response:\n",
    "    btc_block = float(response.text)\n",
    "#btc_json = json.loads(html)\n",
    "#float(html)\n",
    "btc_block"
   ]
  },
  {
   "cell_type": "code",
   "execution_count": 69,
   "metadata": {},
   "outputs": [
    {
     "name": "stdout",
     "output_type": "stream",
     "text": [
      "<class 'dict'>\n"
     ]
    },
    {
     "data": {
      "text/plain": [
       "7759.997"
      ]
     },
     "execution_count": 69,
     "metadata": {},
     "output_type": "execute_result"
    }
   ],
   "source": [
    "print(type(bitrex2_json['result'][0]))\n",
    "bitrex2_json['result'][0]['Last']"
   ]
  },
  {
   "cell_type": "code",
   "execution_count": 89,
   "metadata": {},
   "outputs": [
    {
     "data": {
      "text/plain": [
       "'flobtc_price, rent_price, rigs_avail, rigs_rented, \\n             btc_open_sell, btc_open_buy, volume, last_flo_btc, last_btc_usd, btc_vol, flo_vol, script_30'"
      ]
     },
     "execution_count": 89,
     "metadata": {},
     "output_type": "execute_result"
    }
   ],
   "source": [
    "cols = ['timestamp', 'FLONetworkHashesPs', 'FLOdifficulty',  'FLOblocks', 'BTCdifficulty', 'BTCblocks',\n",
    "       'FLOvolume', 'FLOopenBuy', 'FLOopenSell', 'FLOlow', 'FLOhigh', 'FLObid', 'FLOask', 'FLObaseVol',\n",
    "       'BTCvolume', 'BTCopenBuy', 'BTCopenSell', 'BTClow', 'BTChigh', 'BTCbid', 'BTCask', 'BTCbaseVol',\n",
    "       'FLOlast', 'BTClast', 'scrypt_price', 'scrypt_avail', 'scrypt_rented', 'scrypt_last30',\n",
    "       'sha_price', 'sha_avail', 'sha_rented', 'sha_last30']\n",
    "\n",
    "\n",
    "flo_diff = flocha_json['info']['difficulty']\n",
    "flo_blocks = flocha_json['info']['blocks']\n",
    "btc_diff = btc_difficulty\n",
    "btc_blocks = btc_block\n",
    "\n",
    "flo_vol = bitrex_json['result'][0]['Volume']\n",
    "flo_open_buy = bitrex_json['result'][0]['OpenBuyOrders']\n",
    "flo_open_sell = bitrex_json['result'][0]['OpenSellOrders']\n",
    "flo_low = bitrex_json['result'][0]['Low']\n",
    "flo_high = bitrex_json['result'][0]['High']\n",
    "flo_bid = bitrex_json['result'][0]['Bid']\n",
    "flo_ask = bitrex_json['result'][0]['Ask']\n",
    "flo_baseVol = bitrex_json['result'][0]['BaseVolume']\n",
    "\n",
    "\n",
    "btc_vol = bitrex2_json['result'][0]['Volume']\n",
    "btc_open_buy = bitrex2_json['result'][0]['OpenBuyOrders']\n",
    "btc_open_sell = bitrex2_json['result'][0]['OpenSellOrders']\n",
    "btc_low = bitrex2_json['result'][0]['High']\n",
    "btc_high = bitrex2_json['result'][0]['Low']\n",
    "btc_bid = bitrex2_json['result'][0]['Bid']\n",
    "btc_ask = bitrex2_json['result'][0]['Ask']\n",
    "btc_baseVol = bitrex2_json['result'][0]['BaseVolume']\n",
    "\n",
    "last_flo_btc = bitrex_json['result'][0]['Last']\n",
    "last_btc_usd = bitrex2_json['result'][0]['Last']\n",
    "\n",
    "scrypt_rent_price = rental_json['data']['suggested_price']['amount']\n",
    "scrypt_rigs_avail = rental_json['data']['stats']['available']['rigs']\n",
    "scrypt_rigs_rented = rental_json['data']['stats']['rented']['rigs']\n",
    "scrypt_30 = rental_json['data']['stats']['prices']['last_30']['amount']\n",
    "\n",
    "sha_rent_price = sharental_json['data']['suggested_price']['amount']\n",
    "sha_rigs_avail = sharental_json['data']['stats']['available']['rigs']\n",
    "sha_rigs_rented = sharental_json['data']['stats']['rented']['rigs']\n",
    "sha_30 = sharental_json['data']['stats']['prices']['last_30']['amount']\n",
    "\n",
    "#construct the dataframe\n",
    "df = pd.DataFrame(columns=cols)\n",
    "df.loc[0] = [datetime.utcnow(), net_hash_ps, flo_diff, flo_blocks, btc_diff, btc_blocks, flo_vol, flo_open_buy,\n",
    "            flo_open_sell, flo_low, flo_high, flo_bid, flo_ask, flo_baseVol, btc_vol, btc_open_buy, btc_open_sell,\n",
    "            btc_low, btc_high, btc_bid, btc_ask, btc_baseVol, last_flo_btc, last_btc_usd, scrypt_rent_price,\n",
    "            scrypt_rigs_avail, scrypt_rigs_rented, scrypt_30, sha_rent_price, sha_rigs_avail, sha_rigs_rented, sha_30]\n"
   ]
  },
  {
   "cell_type": "code",
   "execution_count": 90,
   "metadata": {},
   "outputs": [
    {
     "data": {
      "text/html": [
       "<div>\n",
       "<style scoped>\n",
       "    .dataframe tbody tr th:only-of-type {\n",
       "        vertical-align: middle;\n",
       "    }\n",
       "\n",
       "    .dataframe tbody tr th {\n",
       "        vertical-align: top;\n",
       "    }\n",
       "\n",
       "    .dataframe thead th {\n",
       "        text-align: right;\n",
       "    }\n",
       "</style>\n",
       "<table border=\"1\" class=\"dataframe\">\n",
       "  <thead>\n",
       "    <tr style=\"text-align: right;\">\n",
       "      <th></th>\n",
       "      <th>timestamp</th>\n",
       "      <th>FLONetworkHashesPs</th>\n",
       "      <th>FLOdifficulty</th>\n",
       "      <th>FLOblocks</th>\n",
       "      <th>BTCdifficulty</th>\n",
       "      <th>BTCblocks</th>\n",
       "      <th>FLOvolume</th>\n",
       "      <th>FLOopenBuy</th>\n",
       "      <th>FLOopenSell</th>\n",
       "      <th>FLOlow</th>\n",
       "      <th>...</th>\n",
       "      <th>FLOlast</th>\n",
       "      <th>BTClast</th>\n",
       "      <th>scrypt_price</th>\n",
       "      <th>scrypt_avail</th>\n",
       "      <th>scrypt_rented</th>\n",
       "      <th>scrypt_last30</th>\n",
       "      <th>sha_price</th>\n",
       "      <th>sha_avail</th>\n",
       "      <th>sha_rented</th>\n",
       "      <th>sha_last30</th>\n",
       "    </tr>\n",
       "  </thead>\n",
       "  <tbody>\n",
       "    <tr>\n",
       "      <th>0</th>\n",
       "      <td>2020-04-27 14:15:38.083451</td>\n",
       "      <td>7.415071e+10</td>\n",
       "      <td>853</td>\n",
       "      <td>4074355</td>\n",
       "      <td>1.595865e+13</td>\n",
       "      <td>627856.0</td>\n",
       "      <td>45992.749922</td>\n",
       "      <td>154</td>\n",
       "      <td>1318</td>\n",
       "      <td>0.000003</td>\n",
       "      <td>...</td>\n",
       "      <td>0.000003</td>\n",
       "      <td>7759.997</td>\n",
       "      <td>0.00028212</td>\n",
       "      <td>328</td>\n",
       "      <td>248</td>\n",
       "      <td>0.00032087</td>\n",
       "      <td>0.00001806</td>\n",
       "      <td>414</td>\n",
       "      <td>138</td>\n",
       "      <td>0.00003100</td>\n",
       "    </tr>\n",
       "  </tbody>\n",
       "</table>\n",
       "<p>1 rows × 32 columns</p>\n",
       "</div>"
      ],
      "text/plain": [
       "                   timestamp  FLONetworkHashesPs FLOdifficulty FLOblocks  \\\n",
       "0 2020-04-27 14:15:38.083451        7.415071e+10           853   4074355   \n",
       "\n",
       "   BTCdifficulty  BTCblocks     FLOvolume FLOopenBuy FLOopenSell    FLOlow  \\\n",
       "0   1.595865e+13   627856.0  45992.749922        154        1318  0.000003   \n",
       "\n",
       "   ...   FLOlast   BTClast  scrypt_price  scrypt_avail  scrypt_rented  \\\n",
       "0  ...  0.000003  7759.997    0.00028212           328            248   \n",
       "\n",
       "  scrypt_last30   sha_price  sha_avail  sha_rented  sha_last30  \n",
       "0    0.00032087  0.00001806        414         138  0.00003100  \n",
       "\n",
       "[1 rows x 32 columns]"
      ]
     },
     "execution_count": 90,
     "metadata": {},
     "output_type": "execute_result"
    }
   ],
   "source": [
    "df.head()"
   ]
  },
  {
   "cell_type": "code",
   "execution_count": 105,
   "metadata": {},
   "outputs": [],
   "source": [
    "df.to_csv('data/FLO_data_miner.csv')"
   ]
  },
  {
   "cell_type": "code",
   "execution_count": 112,
   "metadata": {},
   "outputs": [],
   "source": [
    "existing_df = pd.read_csv('data/FLO_data_miner.csv', index_col=0)\n",
    "#result_df = pd.concat([existing_df, df])\n",
    "result_df = existing_df.append(df)\n",
    "result_df.to_csv('data/FLO_data_miner.csv')"
   ]
  },
  {
   "cell_type": "code",
   "execution_count": 113,
   "metadata": {},
   "outputs": [
    {
     "data": {
      "text/plain": [
       "2"
      ]
     },
     "execution_count": 113,
     "metadata": {},
     "output_type": "execute_result"
    }
   ],
   "source": [
    "result_df.shape[0]"
   ]
  },
  {
   "cell_type": "code",
   "execution_count": 114,
   "metadata": {},
   "outputs": [],
   "source": [
    "existing_df = pd.read_csv('data/FLO_data_miner.csv', index_col=0)"
   ]
  },
  {
   "cell_type": "code",
   "execution_count": 115,
   "metadata": {},
   "outputs": [
    {
     "data": {
      "text/html": [
       "<div>\n",
       "<style scoped>\n",
       "    .dataframe tbody tr th:only-of-type {\n",
       "        vertical-align: middle;\n",
       "    }\n",
       "\n",
       "    .dataframe tbody tr th {\n",
       "        vertical-align: top;\n",
       "    }\n",
       "\n",
       "    .dataframe thead th {\n",
       "        text-align: right;\n",
       "    }\n",
       "</style>\n",
       "<table border=\"1\" class=\"dataframe\">\n",
       "  <thead>\n",
       "    <tr style=\"text-align: right;\">\n",
       "      <th></th>\n",
       "      <th>timestamp</th>\n",
       "      <th>FLONetworkHashesPs</th>\n",
       "      <th>FLOdifficulty</th>\n",
       "      <th>FLOblocks</th>\n",
       "      <th>BTCdifficulty</th>\n",
       "      <th>BTCblocks</th>\n",
       "      <th>FLOvolume</th>\n",
       "      <th>FLOopenBuy</th>\n",
       "      <th>FLOopenSell</th>\n",
       "      <th>FLOlow</th>\n",
       "      <th>...</th>\n",
       "      <th>FLOlast</th>\n",
       "      <th>BTClast</th>\n",
       "      <th>scrypt_price</th>\n",
       "      <th>scrypt_avail</th>\n",
       "      <th>scrypt_rented</th>\n",
       "      <th>scrypt_last30</th>\n",
       "      <th>sha_price</th>\n",
       "      <th>sha_avail</th>\n",
       "      <th>sha_rented</th>\n",
       "      <th>sha_last30</th>\n",
       "    </tr>\n",
       "  </thead>\n",
       "  <tbody>\n",
       "    <tr>\n",
       "      <th>0</th>\n",
       "      <td>2020-04-27 14:15:38.083451</td>\n",
       "      <td>7.415071e+10</td>\n",
       "      <td>853</td>\n",
       "      <td>4074355</td>\n",
       "      <td>1.595865e+13</td>\n",
       "      <td>627856.0</td>\n",
       "      <td>45992.749922</td>\n",
       "      <td>154</td>\n",
       "      <td>1318</td>\n",
       "      <td>0.000003</td>\n",
       "      <td>...</td>\n",
       "      <td>0.000003</td>\n",
       "      <td>7759.997</td>\n",
       "      <td>0.000282</td>\n",
       "      <td>328</td>\n",
       "      <td>248</td>\n",
       "      <td>0.000321</td>\n",
       "      <td>0.000018</td>\n",
       "      <td>414</td>\n",
       "      <td>138</td>\n",
       "      <td>0.000031</td>\n",
       "    </tr>\n",
       "    <tr>\n",
       "      <th>0</th>\n",
       "      <td>2020-04-27 14:15:38.083451</td>\n",
       "      <td>7.415071e+10</td>\n",
       "      <td>853</td>\n",
       "      <td>4074355</td>\n",
       "      <td>1.595865e+13</td>\n",
       "      <td>627856.0</td>\n",
       "      <td>45992.749922</td>\n",
       "      <td>154</td>\n",
       "      <td>1318</td>\n",
       "      <td>0.000003</td>\n",
       "      <td>...</td>\n",
       "      <td>0.000003</td>\n",
       "      <td>7759.997</td>\n",
       "      <td>0.000282</td>\n",
       "      <td>328</td>\n",
       "      <td>248</td>\n",
       "      <td>0.000321</td>\n",
       "      <td>0.000018</td>\n",
       "      <td>414</td>\n",
       "      <td>138</td>\n",
       "      <td>0.000031</td>\n",
       "    </tr>\n",
       "  </tbody>\n",
       "</table>\n",
       "<p>2 rows × 32 columns</p>\n",
       "</div>"
      ],
      "text/plain": [
       "                    timestamp  FLONetworkHashesPs  FLOdifficulty  FLOblocks  \\\n",
       "0  2020-04-27 14:15:38.083451        7.415071e+10            853    4074355   \n",
       "0  2020-04-27 14:15:38.083451        7.415071e+10            853    4074355   \n",
       "\n",
       "   BTCdifficulty  BTCblocks     FLOvolume  FLOopenBuy  FLOopenSell    FLOlow  \\\n",
       "0   1.595865e+13   627856.0  45992.749922         154         1318  0.000003   \n",
       "0   1.595865e+13   627856.0  45992.749922         154         1318  0.000003   \n",
       "\n",
       "   ...   FLOlast   BTClast  scrypt_price  scrypt_avail  scrypt_rented  \\\n",
       "0  ...  0.000003  7759.997      0.000282           328            248   \n",
       "0  ...  0.000003  7759.997      0.000282           328            248   \n",
       "\n",
       "   scrypt_last30  sha_price  sha_avail  sha_rented  sha_last30  \n",
       "0       0.000321   0.000018        414         138    0.000031  \n",
       "0       0.000321   0.000018        414         138    0.000031  \n",
       "\n",
       "[2 rows x 32 columns]"
      ]
     },
     "execution_count": 115,
     "metadata": {},
     "output_type": "execute_result"
    }
   ],
   "source": [
    "existing_df.head()"
   ]
  },
  {
   "cell_type": "code",
   "execution_count": null,
   "metadata": {},
   "outputs": [],
   "source": []
  }
 ],
 "metadata": {
  "kernelspec": {
   "display_name": "Python 3",
   "language": "python",
   "name": "python3"
  },
  "language_info": {
   "codemirror_mode": {
    "name": "ipython",
    "version": 3
   },
   "file_extension": ".py",
   "mimetype": "text/x-python",
   "name": "python",
   "nbconvert_exporter": "python",
   "pygments_lexer": "ipython3",
   "version": "3.6.5"
  }
 },
 "nbformat": 4,
 "nbformat_minor": 4
}
